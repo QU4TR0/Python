{
  "nbformat": 4,
  "nbformat_minor": 0,
  "metadata": {
    "colab": {
      "provenance": [],
      "authorship_tag": "ABX9TyOSdfwq506eQV66uZ0e+vun",
      "include_colab_link": true
    },
    "kernelspec": {
      "name": "python3",
      "display_name": "Python 3"
    },
    "language_info": {
      "name": "python"
    }
  },
  "cells": [
    {
      "cell_type": "markdown",
      "metadata": {
        "id": "view-in-github",
        "colab_type": "text"
      },
      "source": [
        "<a href=\"https://colab.research.google.com/github/QU4TR0/Python/blob/main/Modulo1.ipynb\" target=\"_parent\"><img src=\"https://colab.research.google.com/assets/colab-badge.svg\" alt=\"Open In Colab\"/></a>"
      ]
    },
    {
      "cell_type": "code",
      "execution_count": null,
      "metadata": {
        "id": "ZjLUn8jvGpFY"
      },
      "outputs": [],
      "source": [
        "width = 10\n",
        "Height = 5\n",
        "area = 0"
      ]
    },
    {
      "cell_type": "code",
      "source": [
        "width, type(str(width)), Height, type(Height)"
      ],
      "metadata": {
        "id": "hZ2DvHSpG-FN",
        "outputId": "f8eb2d93-c9e3-4ab7-d76e-137d8a212023",
        "colab": {
          "base_uri": "https://localhost:8080/"
        }
      },
      "execution_count": null,
      "outputs": [
        {
          "output_type": "execute_result",
          "data": {
            "text/plain": [
              "(10, str, 5, int)"
            ]
          },
          "metadata": {},
          "execution_count": 20
        }
      ]
    },
    {
      "cell_type": "code",
      "source": [
        "print(10%3)\n",
        "print(5**2)\n",
        "print(10//3)\n",
        "print('-' * 30)\n",
        "print(10%3)\n",
        "print(5**2)\n",
        "print(10//3)\n",
        "print(\"Programa \" + \"Encerrado\")"
      ],
      "metadata": {
        "id": "75PLVw-rHgw2",
        "outputId": "a3b0ce32-9c05-4d1d-eb4b-ee024bbdc40d",
        "colab": {
          "base_uri": "https://localhost:8080/"
        }
      },
      "execution_count": null,
      "outputs": [
        {
          "output_type": "stream",
          "name": "stdout",
          "text": [
            "1\n",
            "25\n",
            "3\n",
            "------------------------------\n",
            "1\n",
            "25\n",
            "3\n",
            "Programa Encerrado\n"
          ]
        }
      ]
    },
    {
      "cell_type": "code",
      "source": [
        "x = 12\n",
        "y = 4\n",
        "\n",
        "if 12/3 == y:\n",
        "  print(\"Y é o resultado da equação: \" + str(y))\n",
        "else:\n",
        "  print(\"Y não é o resultado da equação.\")"
      ],
      "metadata": {
        "id": "gc5ecNXNJ1TS",
        "outputId": "ac062f56-4687-4619-f69a-ee035d4d5e22",
        "colab": {
          "base_uri": "https://localhost:8080/"
        }
      },
      "execution_count": null,
      "outputs": [
        {
          "output_type": "stream",
          "name": "stdout",
          "text": [
            "Y é o resultado da equação: 4\n"
          ]
        }
      ]
    },
    {
      "cell_type": "code",
      "source": [
        "def switcher(number):\n",
        "\n",
        "  return{\n",
        "      '0':\"Entrada do 0\",\n",
        "      '1':\"Entrada do 1\",\n",
        "      '2':\"Entrada do 2\",\n",
        "      '3':\"Entrada do 3\",\n",
        "      '4':\"Entrada do 4\",\n",
        "      '5':\"Entrada do 5\",\n",
        "  }.get(number,\"Número Inválido!\")\n",
        "\n",
        "# input() lê a entrada do usuário\n",
        "number = input(\"Digite um número: \")\n",
        "switcher(number)"
      ],
      "metadata": {
        "id": "V8COcap4KubE",
        "outputId": "99be7479-bc5b-4726-ff52-c90c38cff250",
        "colab": {
          "base_uri": "https://localhost:8080/",
          "height": 53
        }
      },
      "execution_count": null,
      "outputs": [
        {
          "name": "stdout",
          "output_type": "stream",
          "text": [
            "Digite um número: 4\n"
          ]
        },
        {
          "output_type": "execute_result",
          "data": {
            "text/plain": [
              "'Entrada do 4'"
            ],
            "application/vnd.google.colaboratory.intrinsic+json": {
              "type": "string"
            }
          },
          "metadata": {},
          "execution_count": 33
        }
      ]
    }
  ]
}